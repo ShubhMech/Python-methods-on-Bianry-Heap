{
 "cells": [
  {
   "cell_type": "code",
   "execution_count": 106,
   "id": "f7e8e1fe-921e-4532-9263-7c0153f693db",
   "metadata": {},
   "outputs": [],
   "source": [
    "class Bin_Heap:\n",
    "    def __init__(self , size):\n",
    "        self.max_size= size+1\n",
    "        self.heap= [None]*self.max_size\n",
    "        self.heap_size= 0"
   ]
  },
  {
   "cell_type": "code",
   "execution_count": 107,
   "id": "c532068e-cca1-465b-b407-1173a6f1eee3",
   "metadata": {},
   "outputs": [],
   "source": [
    "root= Bin_Heap(8)"
   ]
  },
  {
   "cell_type": "code",
   "execution_count": 108,
   "id": "9b4646bd-9cd2-4b80-a93f-e1be75febfe3",
   "metadata": {},
   "outputs": [],
   "source": [
    "def peek(root):\n",
    "    if root.heap_size==0:\n",
    "        return None\n",
    "    else:\n",
    "        return root.heap[1]\n"
   ]
  },
  {
   "cell_type": "code",
   "execution_count": 109,
   "id": "ee34281c-963e-46f4-a428-d4dd96f0e5c7",
   "metadata": {},
   "outputs": [],
   "source": [
    "peek(root)"
   ]
  },
  {
   "cell_type": "code",
   "execution_count": 110,
   "id": "7b629d76-6e2c-442e-952a-950364da70ce",
   "metadata": {},
   "outputs": [],
   "source": [
    "def size_of_heap(root):\n",
    "    if not root:\n",
    "        return\n",
    "    else:\n",
    "        return root.heap_size\n",
    "    "
   ]
  },
  {
   "cell_type": "code",
   "execution_count": 111,
   "id": "1729196e-0de2-4e49-b478-f2f9d6997d9f",
   "metadata": {},
   "outputs": [
    {
     "data": {
      "text/plain": [
       "0"
      ]
     },
     "execution_count": 111,
     "metadata": {},
     "output_type": "execute_result"
    }
   ],
   "source": [
    "size_of_heap(root)"
   ]
  },
  {
   "cell_type": "code",
   "execution_count": 112,
   "id": "57c0df0c-64ff-4550-b748-80f3a1aeece7",
   "metadata": {},
   "outputs": [],
   "source": [
    "def in_order_traversal(root,index):\n",
    "    if root.heap_size==0:\n",
    "        print(\"Nothin to traverse.\")\n",
    "        return\n",
    "    \n",
    "    else:\n",
    "        \n",
    "        if index > root.heap_size:\n",
    "            return\n",
    "\n",
    "\n",
    "        else:\n",
    "            \n",
    "\n",
    "            in_order_traversal(root,2*index)\n",
    "            print(root.list[index  ])\n",
    "            in_order_traversal(root,2*index+1)"
   ]
  },
  {
   "cell_type": "code",
   "execution_count": 113,
   "id": "75b2ab0f-1b5d-4f7c-a5dc-d949b720992f",
   "metadata": {},
   "outputs": [
    {
     "name": "stdout",
     "output_type": "stream",
     "text": [
      "Nothin to traverse.\n"
     ]
    }
   ],
   "source": [
    "in_order_traversal(root,1)"
   ]
  },
  {
   "cell_type": "code",
   "execution_count": 114,
   "id": "a51e2971-8345-4493-8a7e-e8758964701a",
   "metadata": {},
   "outputs": [],
   "source": [
    "def level_order_traversal(root,index):\n",
    "    if root.heap_size==0:\n",
    "        print(\"Nothin to traverse.\")\n",
    "        return\n",
    "    \n",
    "    else:\n",
    "        for i in range(index,root.heap_size+1):\n",
    "            print(root.heap[i])"
   ]
  },
  {
   "cell_type": "code",
   "execution_count": 115,
   "id": "e6210c21-85b7-4258-bb69-892b648bb911",
   "metadata": {},
   "outputs": [
    {
     "name": "stdout",
     "output_type": "stream",
     "text": [
      "Nothin to traverse.\n"
     ]
    }
   ],
   "source": [
    "level_order_traversal(root,1)"
   ]
  },
  {
   "cell_type": "code",
   "execution_count": 116,
   "id": "8316900c-dc16-4403-965c-43fabccdd7d7",
   "metadata": {},
   "outputs": [],
   "source": [
    "def post_order_traversal(root,index):\n",
    "    if root.heap_size==0:\n",
    "        print(\"Nothin to traverse.\")\n",
    "        return\n",
    "    \n",
    "    else:\n",
    "        \n",
    "        if index > root.heap_size:\n",
    "            return\n",
    "\n",
    "\n",
    "        else:\n",
    "            \n",
    "\n",
    "            post_order_traversal(root,2*index)\n",
    "            \n",
    "            post_order_traversal(root,2*index+1\n",
    "                               )\n",
    "            print(root.list[index  ])"
   ]
  },
  {
   "cell_type": "code",
   "execution_count": 117,
   "id": "7a7db8a0-39ec-42b5-b105-e632e758769e",
   "metadata": {},
   "outputs": [
    {
     "name": "stdout",
     "output_type": "stream",
     "text": [
      "Nothin to traverse.\n"
     ]
    }
   ],
   "source": [
    "post_order_traversal(root,1)"
   ]
  },
  {
   "cell_type": "code",
   "execution_count": 118,
   "id": "6d10881a-be58-4831-a5ae-77bfaed636af",
   "metadata": {},
   "outputs": [],
   "source": [
    "def heapify_insert(root,index,heap_type):\n",
    "    if index== 1 or index== 0:\n",
    "        return\n",
    "    if heap_type==\"Min\":\n",
    "        parent_index= int(index/2)\n",
    "        temp = root.heap[index]\n",
    "        if temp< root.heap[parent_index]:\n",
    "            root.heap[index]= root.heap[parent_index]\n",
    "            root.heap[parent_index]=temp\n",
    "        heapify_insert(root,parent_index,heap_type)\n",
    "        \n",
    "    \n",
    "    if heap_type==\"Max\":\n",
    "        parent_index= int(index/2)\n",
    "        temp = root.heap[index]\n",
    "        if temp> root.heap[parent_index]:\n",
    "            root.heap[index]= root.heap[parent_index]\n",
    "            root.heap[parent_index]=temp\n",
    "        heapify_insert(root,parent_index,heap_type)"
   ]
  },
  {
   "cell_type": "code",
   "execution_count": 119,
   "id": "cd9c0e09-bb19-4bbf-a16a-ca0bbe3f6cc0",
   "metadata": {},
   "outputs": [],
   "source": [
    "def insert_node(root,val,heap_type):\n",
    "    \n",
    "    if root.heap_size+1 >root.max_size:\n",
    "        return \"Can't Insert bhau Torsekar!\"\n",
    "    else:\n",
    "        root.heap[root.heap_size+1]=val\n",
    "        root.heap_size += 1\n",
    "        heapify_insert(root,root.heap_size,heap_type)"
   ]
  },
  {
   "cell_type": "code",
   "execution_count": 120,
   "id": "b8bc007a-1960-4c26-b036-a2d852976877",
   "metadata": {},
   "outputs": [],
   "source": [
    "insert_node(root,55,\"Min\")"
   ]
  },
  {
   "cell_type": "code",
   "execution_count": 121,
   "id": "daa9f63e-901a-4836-9f9d-13a7491da064",
   "metadata": {},
   "outputs": [
    {
     "name": "stdout",
     "output_type": "stream",
     "text": [
      "55\n"
     ]
    }
   ],
   "source": [
    "level_order_traversal(root,1)"
   ]
  },
  {
   "cell_type": "code",
   "execution_count": 122,
   "id": "61795ffa-e328-42ae-bcba-227ac187d3aa",
   "metadata": {},
   "outputs": [],
   "source": [
    "insert_node(root,44,\"Min\")"
   ]
  },
  {
   "cell_type": "code",
   "execution_count": 123,
   "id": "65658174-2184-4ebb-af2c-926bde6b0943",
   "metadata": {},
   "outputs": [],
   "source": [
    "insert_node(root,45,\"Min\")"
   ]
  },
  {
   "cell_type": "code",
   "execution_count": 124,
   "id": "c5dfb5de-c5f2-40f7-8d72-e6f7b3871bb2",
   "metadata": {},
   "outputs": [],
   "source": [
    "insert_node(root,43,\"Min\")"
   ]
  },
  {
   "cell_type": "code",
   "execution_count": 125,
   "id": "1d470f25-6f2b-4972-968a-f7819827d79e",
   "metadata": {},
   "outputs": [],
   "source": [
    "insert_node(root,454,\"Min\")"
   ]
  },
  {
   "cell_type": "code",
   "execution_count": 126,
   "id": "35ae3974-1046-41c1-a985-5dc7a9147d49",
   "metadata": {},
   "outputs": [
    {
     "name": "stdout",
     "output_type": "stream",
     "text": [
      "43\n",
      "44\n",
      "45\n",
      "55\n",
      "454\n"
     ]
    }
   ],
   "source": [
    "level_order_traversal(root,1)"
   ]
  },
  {
   "cell_type": "code",
   "execution_count": 127,
   "id": "5ab590e3-1cf5-41d9-ae8e-28278902dd85",
   "metadata": {},
   "outputs": [],
   "source": [
    "insert_node(root,4,\"Min\")"
   ]
  },
  {
   "cell_type": "code",
   "execution_count": 128,
   "id": "130716db-0b67-430b-8ceb-5497d88b573a",
   "metadata": {},
   "outputs": [],
   "source": [
    "def heapifyTreeExtract(rootNode, index, heap_type):\n",
    "    left= 2*index\n",
    "    right=2*index+1\n",
    "    \n",
    "    if root.heap_size<=left:\n",
    "        return\n",
    "    elif root.heap_size==left:\n",
    "        if heap_type==\"Min\":\n",
    "            if root.heap[index] > root.heap[left]:\n",
    "                temp= root.heap[left]\n",
    "               \n",
    "                root.heap[left]= root.heap[index]\n",
    "                root.heap[index]= temp\n",
    "                return\n",
    "        else:\n",
    "            if root.heap[index] < root.heap[left]:\n",
    "                temp= root.heap[left]\n",
    "               \n",
    "                root.heap[left]= root.heap[index]\n",
    "                root.heap[index]= temp\n",
    "                return\n",
    "    else:\n",
    "        if heap_type== \"Min\":\n",
    "            \n",
    "            if root.heap[left]< root.heap[right]:\n",
    "                swap= left\n",
    "            \n",
    "            else:\n",
    "                swap=right\n",
    "            \n",
    "            if root.heap[swap]< root.heap[index]:\n",
    "                temp= root.heap[swap]\n",
    "               \n",
    "                root.heap[swap]= root.heap[index]\n",
    "                root.heap[index]= temp\n",
    "                return\n",
    "                \n",
    "                \n",
    "        else:\n",
    "            if root.heap[left]> root.heap[right]:\n",
    "                swap= left\n",
    "            \n",
    "            else:swap=right\n",
    "            \n",
    "            if root.heap[swap]> root.heap[index]:\n",
    "                temp= root.heap[swap]\n",
    "               \n",
    "                root.heap[swap]= root.heap[index]\n",
    "                root.heap[index]= temp\n",
    "                return\n",
    "                \n",
    "        \n",
    "        \n",
    "        \n",
    "    heapifyTreeExtract(rootNode, swapChild, heapType)\n",
    "    \n",
    "\n",
    "\n",
    "    "
   ]
  },
  {
   "cell_type": "code",
   "execution_count": 129,
   "id": "7e7de66d-aadb-4784-b102-1d69c5a36227",
   "metadata": {},
   "outputs": [],
   "source": [
    "def heap_extract(root,heap_type,index=1):\n",
    "    if root.heap_size ==0:\n",
    "        return\n",
    "    else:\n",
    "        node= root.heap[index]\n",
    "        root.heap[index]=root.heap[root.heap_size]\n",
    "        root.heap[root.heap_size]=None\n",
    "        root.heap_size -= 1\n",
    "        \n",
    "        heapifyTreeExtract(root, 1, heap_type)\n",
    "        \n",
    "        return node\n",
    "        \n",
    "        "
   ]
  },
  {
   "cell_type": "code",
   "execution_count": 130,
   "id": "0a2cc7bd-362e-4728-a531-c2c67c6eb673",
   "metadata": {},
   "outputs": [
    {
     "data": {
      "text/plain": [
       "4"
      ]
     },
     "execution_count": 130,
     "metadata": {},
     "output_type": "execute_result"
    }
   ],
   "source": [
    "heap_extract(root,\"Min\")"
   ]
  },
  {
   "cell_type": "code",
   "execution_count": 131,
   "id": "b7434131-6370-49d5-aeea-63c6a6d6c034",
   "metadata": {},
   "outputs": [
    {
     "name": "stdout",
     "output_type": "stream",
     "text": [
      "43\n",
      "44\n",
      "45\n",
      "55\n",
      "454\n"
     ]
    }
   ],
   "source": [
    "level_order_traversal(root,1)"
   ]
  },
  {
   "cell_type": "raw",
   "id": "93ed73c1-62ed-43ad-94dd-0b5090077938",
   "metadata": {},
   "source": [
    "level_order_traversal(root,1)"
   ]
  }
 ],
 "metadata": {
  "kernelspec": {
   "display_name": "Python 3",
   "language": "python",
   "name": "python3"
  },
  "language_info": {
   "codemirror_mode": {
    "name": "ipython",
    "version": 3
   },
   "file_extension": ".py",
   "mimetype": "text/x-python",
   "name": "python",
   "nbconvert_exporter": "python",
   "pygments_lexer": "ipython3",
   "version": "3.8.5"
  }
 },
 "nbformat": 4,
 "nbformat_minor": 5
}
