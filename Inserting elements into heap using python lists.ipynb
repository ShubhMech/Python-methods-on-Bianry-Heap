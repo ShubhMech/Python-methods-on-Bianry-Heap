{
 "cells": [
  {
   "cell_type": "code",
   "execution_count": 62,
   "id": "f7e8e1fe-921e-4532-9263-7c0153f693db",
   "metadata": {},
   "outputs": [],
   "source": [
    "class Bin_Heap:\n",
    "    def __init__(self , size):\n",
    "        self.max_size= size+1\n",
    "        self.heap= [None]*self.max_size\n",
    "        self.heap_size= 0"
   ]
  },
  {
   "cell_type": "code",
   "execution_count": 63,
   "id": "c532068e-cca1-465b-b407-1173a6f1eee3",
   "metadata": {},
   "outputs": [],
   "source": [
    "root= Bin_Heap(8)"
   ]
  },
  {
   "cell_type": "code",
   "execution_count": 64,
   "id": "9b4646bd-9cd2-4b80-a93f-e1be75febfe3",
   "metadata": {},
   "outputs": [],
   "source": [
    "def peek(root):\n",
    "    if root.heap_size==0:\n",
    "        return None\n",
    "    else:\n",
    "        return root.heap[1]\n"
   ]
  },
  {
   "cell_type": "code",
   "execution_count": 65,
   "id": "ee34281c-963e-46f4-a428-d4dd96f0e5c7",
   "metadata": {},
   "outputs": [],
   "source": [
    "peek(root)"
   ]
  },
  {
   "cell_type": "code",
   "execution_count": 66,
   "id": "7b629d76-6e2c-442e-952a-950364da70ce",
   "metadata": {},
   "outputs": [],
   "source": [
    "def size_of_heap(root):\n",
    "    if not root:\n",
    "        return\n",
    "    else:\n",
    "        return root.heap_size\n",
    "    "
   ]
  },
  {
   "cell_type": "code",
   "execution_count": 67,
   "id": "1729196e-0de2-4e49-b478-f2f9d6997d9f",
   "metadata": {},
   "outputs": [
    {
     "data": {
      "text/plain": [
       "0"
      ]
     },
     "execution_count": 67,
     "metadata": {},
     "output_type": "execute_result"
    }
   ],
   "source": [
    "size_of_heap(root)"
   ]
  },
  {
   "cell_type": "code",
   "execution_count": 68,
   "id": "57c0df0c-64ff-4550-b748-80f3a1aeece7",
   "metadata": {},
   "outputs": [],
   "source": [
    "def in_order_traversal(root,index):\n",
    "    if root.heap_size==0:\n",
    "        print(\"Nothin to traverse.\")\n",
    "        return\n",
    "    \n",
    "    else:\n",
    "        \n",
    "        if index > root.heap_size:\n",
    "            return\n",
    "\n",
    "\n",
    "        else:\n",
    "            \n",
    "\n",
    "            in_order_traversal(root,2*index)\n",
    "            print(root.list[index  ])\n",
    "            in_order_traversal(root,2*index+1)"
   ]
  },
  {
   "cell_type": "code",
   "execution_count": 69,
   "id": "75b2ab0f-1b5d-4f7c-a5dc-d949b720992f",
   "metadata": {},
   "outputs": [
    {
     "name": "stdout",
     "output_type": "stream",
     "text": [
      "Nothin to traverse.\n"
     ]
    }
   ],
   "source": [
    "in_order_traversal(root,1)"
   ]
  },
  {
   "cell_type": "code",
   "execution_count": 70,
   "id": "a51e2971-8345-4493-8a7e-e8758964701a",
   "metadata": {},
   "outputs": [],
   "source": [
    "def level_order_traversal(root,index):\n",
    "    if root.heap_size==0:\n",
    "        print(\"Nothin to traverse.\")\n",
    "        return\n",
    "    \n",
    "    else:\n",
    "        for i in range(index,root.heap_size+1):\n",
    "            print(root.heap[i])"
   ]
  },
  {
   "cell_type": "code",
   "execution_count": 71,
   "id": "e6210c21-85b7-4258-bb69-892b648bb911",
   "metadata": {},
   "outputs": [
    {
     "name": "stdout",
     "output_type": "stream",
     "text": [
      "Nothin to traverse.\n"
     ]
    }
   ],
   "source": [
    "level_order_traversal(root,1)"
   ]
  },
  {
   "cell_type": "code",
   "execution_count": 72,
   "id": "8316900c-dc16-4403-965c-43fabccdd7d7",
   "metadata": {},
   "outputs": [],
   "source": [
    "def post_order_traversal(root,index):\n",
    "    if root.heap_size==0:\n",
    "        print(\"Nothin to traverse.\")\n",
    "        return\n",
    "    \n",
    "    else:\n",
    "        \n",
    "        if index > root.heap_size:\n",
    "            return\n",
    "\n",
    "\n",
    "        else:\n",
    "            \n",
    "\n",
    "            post_order_traversal(root,2*index)\n",
    "            \n",
    "            post_order_traversal(root,2*index+1\n",
    "                               )\n",
    "            print(root.list[index  ])"
   ]
  },
  {
   "cell_type": "code",
   "execution_count": 73,
   "id": "7a7db8a0-39ec-42b5-b105-e632e758769e",
   "metadata": {},
   "outputs": [
    {
     "name": "stdout",
     "output_type": "stream",
     "text": [
      "Nothin to traverse.\n"
     ]
    }
   ],
   "source": [
    "post_order_traversal(root,1)"
   ]
  },
  {
   "cell_type": "code",
   "execution_count": 74,
   "id": "6d10881a-be58-4831-a5ae-77bfaed636af",
   "metadata": {},
   "outputs": [],
   "source": [
    "def heapify_insert(root,index,heap_type):\n",
    "    if index== 1 or index== 0:\n",
    "        return\n",
    "    if heap_type==\"Min\":\n",
    "        parent_index= int(index/2)\n",
    "        temp = root.heap[index]\n",
    "        if temp< root.heap[parent_index]:\n",
    "            root.heap[index]= root.heap[parent_index]\n",
    "            root.heap[parent_index]=temp\n",
    "        heapify_insert(root,parent_index,heap_type)\n",
    "        \n",
    "    \n",
    "    if heap_type==\"Max\":\n",
    "        parent_index= int(index/2)\n",
    "        temp = root.heap[index]\n",
    "        if temp> root.heap[parent_index]:\n",
    "            root.heap[index]= root.heap[parent_index]\n",
    "            root.heap[parent_index]=temp\n",
    "        heapify_insert(root,parent_index,heap_type)"
   ]
  },
  {
   "cell_type": "code",
   "execution_count": 75,
   "id": "cd9c0e09-bb19-4bbf-a16a-ca0bbe3f6cc0",
   "metadata": {},
   "outputs": [],
   "source": [
    "def insert_node(root,val,heap_type):\n",
    "    \n",
    "    if root.heap_size+1 >root.max_size:\n",
    "        return \"Can't Insert bhau Torsekar!\"\n",
    "    else:\n",
    "        root.heap[root.heap_size+1]=val\n",
    "        root.heap_size += 1\n",
    "        heapify_insert(root,root.heap_size,heap_type)"
   ]
  },
  {
   "cell_type": "code",
   "execution_count": 76,
   "id": "b8bc007a-1960-4c26-b036-a2d852976877",
   "metadata": {},
   "outputs": [],
   "source": [
    "insert_node(root,55,\"Min\")"
   ]
  },
  {
   "cell_type": "code",
   "execution_count": 77,
   "id": "daa9f63e-901a-4836-9f9d-13a7491da064",
   "metadata": {},
   "outputs": [
    {
     "name": "stdout",
     "output_type": "stream",
     "text": [
      "55\n"
     ]
    }
   ],
   "source": [
    "level_order_traversal(root,1)"
   ]
  },
  {
   "cell_type": "code",
   "execution_count": 78,
   "id": "61795ffa-e328-42ae-bcba-227ac187d3aa",
   "metadata": {},
   "outputs": [],
   "source": [
    "insert_node(root,44,\"Min\")"
   ]
  },
  {
   "cell_type": "code",
   "execution_count": 79,
   "id": "65658174-2184-4ebb-af2c-926bde6b0943",
   "metadata": {},
   "outputs": [],
   "source": [
    "insert_node(root,45,\"Min\")"
   ]
  },
  {
   "cell_type": "code",
   "execution_count": 80,
   "id": "c5dfb5de-c5f2-40f7-8d72-e6f7b3871bb2",
   "metadata": {},
   "outputs": [],
   "source": [
    "insert_node(root,43,\"Min\")"
   ]
  },
  {
   "cell_type": "code",
   "execution_count": 81,
   "id": "1d470f25-6f2b-4972-968a-f7819827d79e",
   "metadata": {},
   "outputs": [],
   "source": [
    "insert_node(root,454,\"Min\")"
   ]
  },
  {
   "cell_type": "code",
   "execution_count": 82,
   "id": "35ae3974-1046-41c1-a985-5dc7a9147d49",
   "metadata": {},
   "outputs": [
    {
     "name": "stdout",
     "output_type": "stream",
     "text": [
      "43\n",
      "44\n",
      "45\n",
      "55\n",
      "454\n"
     ]
    }
   ],
   "source": [
    "level_order_traversal(root,1)"
   ]
  },
  {
   "cell_type": "code",
   "execution_count": 83,
   "id": "5ab590e3-1cf5-41d9-ae8e-28278902dd85",
   "metadata": {},
   "outputs": [],
   "source": [
    "insert_node(root,4,\"Min\")"
   ]
  },
  {
   "cell_type": "code",
   "execution_count": 84,
   "id": "ee8dd8d5-285f-41dd-be43-0744f245cdc4",
   "metadata": {},
   "outputs": [
    {
     "name": "stdout",
     "output_type": "stream",
     "text": [
      "4\n",
      "44\n",
      "43\n",
      "55\n",
      "454\n",
      "45\n"
     ]
    }
   ],
   "source": [
    "level_order_traversal(root,1)"
   ]
  },
  {
   "cell_type": "code",
   "execution_count": null,
   "id": "12aa7624-1743-4254-9725-96299c73a804",
   "metadata": {},
   "outputs": [],
   "source": []
  }
 ],
 "metadata": {
  "kernelspec": {
   "display_name": "Python 3",
   "language": "python",
   "name": "python3"
  },
  "language_info": {
   "codemirror_mode": {
    "name": "ipython",
    "version": 3
   },
   "file_extension": ".py",
   "mimetype": "text/x-python",
   "name": "python",
   "nbconvert_exporter": "python",
   "pygments_lexer": "ipython3",
   "version": "3.8.5"
  }
 },
 "nbformat": 4,
 "nbformat_minor": 5
}
