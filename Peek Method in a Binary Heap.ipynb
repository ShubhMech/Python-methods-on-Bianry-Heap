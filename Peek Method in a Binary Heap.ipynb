{
 "cells": [
  {
   "cell_type": "code",
   "execution_count": 1,
   "id": "f7e8e1fe-921e-4532-9263-7c0153f693db",
   "metadata": {},
   "outputs": [],
   "source": [
    "class Bin_Heap:\n",
    "    def __init__(self , size):\n",
    "        self.max_size= size+1\n",
    "        self.heap= [None]*self.max_size\n",
    "        self.heap_size= 0"
   ]
  },
  {
   "cell_type": "code",
   "execution_count": 2,
   "id": "c532068e-cca1-465b-b407-1173a6f1eee3",
   "metadata": {},
   "outputs": [],
   "source": [
    "root= Bin_Heap(8)"
   ]
  },
  {
   "cell_type": "code",
   "execution_count": 4,
   "id": "9b4646bd-9cd2-4b80-a93f-e1be75febfe3",
   "metadata": {},
   "outputs": [],
   "source": [
    "def peek(root):\n",
    "    if root.heap_size==0:\n",
    "        return None\n",
    "    else:\n",
    "        return root.heap[1]\n"
   ]
  },
  {
   "cell_type": "code",
   "execution_count": 5,
   "id": "ee34281c-963e-46f4-a428-d4dd96f0e5c7",
   "metadata": {},
   "outputs": [],
   "source": [
    "peek(root)"
   ]
  },
  {
   "cell_type": "code",
   "execution_count": null,
   "id": "7b629d76-6e2c-442e-952a-950364da70ce",
   "metadata": {},
   "outputs": [],
   "source": []
  }
 ],
 "metadata": {
  "kernelspec": {
   "display_name": "Python 3",
   "language": "python",
   "name": "python3"
  },
  "language_info": {
   "codemirror_mode": {
    "name": "ipython",
    "version": 3
   },
   "file_extension": ".py",
   "mimetype": "text/x-python",
   "name": "python",
   "nbconvert_exporter": "python",
   "pygments_lexer": "ipython3",
   "version": "3.8.5"
  }
 },
 "nbformat": 4,
 "nbformat_minor": 5
}
